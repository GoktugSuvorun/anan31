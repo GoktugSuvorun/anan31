{
 "cells": [
  {
   "cell_type": "code",
   "execution_count": 4,
   "metadata": {},
   "outputs": [
    {
     "name": "stdout",
     "output_type": "stream",
     "text": [
      "7\n"
     ]
    }
   ],
   "source": [
    "import sys\n",
    "import os\n",
    "\n",
    "# Manually specify the project root or module path\n",
    "project_root = \"/Users/goktugonal/Documents/Code Projects/Medicine Projects/UCSF/RCT-Imputation-Project\"\n",
    "sys.path.append(project_root)\n",
    "\n",
    "from Packages.my_module import add, greet, subtract\n",
    "\n",
    "# Test the function\n",
    "result = add(2, 5)\n",
    "print(result)\n"
   ]
  },
  {
   "cell_type": "code",
   "execution_count": null,
   "metadata": {},
   "outputs": [],
   "source": []
  }
 ],
 "metadata": {
  "kernelspec": {
   "display_name": "Python 3",
   "language": "python",
   "name": "python3"
  },
  "language_info": {
   "name": "python",
   "version": "3.11.5"
  },
  "orig_nbformat": 4
 },
 "nbformat": 4,
 "nbformat_minor": 2
}
